{
 "metadata": {
  "name": "",
  "signature": "sha256:6dde4a4dcad364f6384f03a88675512860eb89a2fedd5c03c5a548d0cfaf1e9d"
 },
 "nbformat": 3,
 "nbformat_minor": 0,
 "worksheets": [
  {
   "cells": [
    {
     "cell_type": "markdown",
     "metadata": {},
     "source": [
      "# Homework1"
     ]
    },
    {
     "cell_type": "markdown",
     "metadata": {},
     "source": [
      "## Exercise 1"
     ]
    },
    {
     "cell_type": "code",
     "collapsed": false,
     "input": [
      "print 'Hello, World'"
     ],
     "language": "python",
     "metadata": {},
     "outputs": [
      {
       "output_type": "stream",
       "stream": "stdout",
       "text": [
        "Hello, World\n"
       ]
      }
     ],
     "prompt_number": 1
    },
    {
     "cell_type": "code",
     "collapsed": false,
     "input": [
      "print \"Hello, World\""
     ],
     "language": "python",
     "metadata": {},
     "outputs": [
      {
       "output_type": "stream",
       "stream": "stdout",
       "text": [
        "Hello, World\n"
       ]
      }
     ],
     "prompt_number": 2
    },
    {
     "cell_type": "markdown",
     "metadata": {},
     "source": [
      "## Exercise 2"
     ]
    },
    {
     "cell_type": "code",
     "collapsed": false,
     "input": [
      "def right_justify(s):\n",
      "    length_tot = 70\n",
      "    length_str = len(s)\n",
      "    length_space = length_tot-length_str\n",
      "    print \" \"*length_space, s\n",
      "\n",
      "right_justify('Hello')\n",
      "right_justify('allen')\n",
      "right_justify('how are you?')"
     ],
     "language": "python",
     "metadata": {},
     "outputs": [
      {
       "output_type": "stream",
       "stream": "stdout",
       "text": [
        "                                                                  Hello\n",
        "                                                                  allen\n",
        "                                                           how are you?\n"
       ]
      }
     ],
     "prompt_number": 3
    },
    {
     "cell_type": "markdown",
     "metadata": {},
     "source": [
      "## Exercise 3"
     ]
    },
    {
     "cell_type": "code",
     "collapsed": false,
     "input": [
      "# do_twice and two_twice_arg\n",
      "def do_twice(f):\n",
      "    f()\n",
      "    f()\n",
      "\n",
      "def do_twice_arg(f,stuff):\n",
      "    f(stuff)\n",
      "    f(stuff)\n",
      "    \n",
      "def do_four(f,stuff):\n",
      "    do_twice_arg(f,stuff)\n",
      "    do_twice_arg(f,stuff)\n",
      "    \n",
      "# functions to be caleed by do_twice\n",
      "def print_spam():\n",
      "    print 'spam'\n",
      "\n",
      "def print_stuff(stuff):\n",
      "    print stuff\n",
      "    \n",
      "def print_twice(stuff):\n",
      "    do_twice(print_stuff,stuff)\n",
      "    \n",
      "# try something\n",
      "print 'use do_twice'\n",
      "do_twice(print_spam)\n",
      "print 'use do_twice_arg'\n",
      "do_twice_arg(print_stuff,'SPAM')\n",
      "print 'use do_four'\n",
      "do_four(print_stuff,'ABCD')"
     ],
     "language": "python",
     "metadata": {},
     "outputs": [
      {
       "output_type": "stream",
       "stream": "stdout",
       "text": [
        "use do_twice\n",
        "spam\n",
        "spam\n",
        "use do_twice_arg\n",
        "SPAM\n",
        "SPAM\n",
        "use do_four\n",
        "ABCD\n",
        "ABCD\n",
        "ABCD\n",
        "ABCD\n"
       ]
      }
     ],
     "prompt_number": 10
    },
    {
     "cell_type": "markdown",
     "metadata": {},
     "source": [
      "## Exercise 6"
     ]
    },
    {
     "cell_type": "code",
     "collapsed": false,
     "input": [
      "from math import sqrt, atan2, pi\n",
      "\n",
      "x = float(raw_input(\"Input x: \"))\n",
      "y = float(raw_input(\"Input y: \"))\n",
      "\n",
      "print 'x,y=', x, y\n",
      "r = sqrt(x*x+y*y)\n",
      "theta = atan2(y,x) # between - pi and pi\n",
      "theta = theta/(2.0*pi)*360 # between -180 and 180 degrees\n",
      "if theta < 0 :\n",
      "\ttheta = theta+360\n",
      "\n",
      "print 'r=', r\n",
      "print 'theta=', theta, 'degrees'"
     ],
     "language": "python",
     "metadata": {},
     "outputs": [
      {
       "name": "stdout",
       "output_type": "stream",
       "stream": "stdout",
       "text": [
        "Input x: 4\n"
       ]
      },
      {
       "name": "stdout",
       "output_type": "stream",
       "stream": "stdout",
       "text": [
        "Input y: 4\n"
       ]
      },
      {
       "output_type": "stream",
       "stream": "stdout",
       "text": [
        "x,y= 4.0 4.0\n",
        "r= 5.65685424949\n",
        "theta= 45.0 degrees\n"
       ]
      }
     ],
     "prompt_number": 11
    },
    {
     "cell_type": "markdown",
     "metadata": {},
     "source": [
      "## Exercise 8"
     ]
    },
    {
     "cell_type": "code",
     "collapsed": false,
     "input": [
      "def factorial_rec(n):\n",
      "    if type(n) != int:\n",
      "        return None\n",
      "    elif n <= 0:\n",
      "        return None\n",
      "    elif n == 1:\n",
      "        return 1\n",
      "    else:\n",
      "        return n*factorial_rec(n-1)\n",
      "\n",
      "print 3.1, factorial_rec(3.1)\n",
      "print -1, factorial_rec(-1)\n",
      "print 0, factorial_rec(0)\n",
      "print 2, factorial_rec(2)\n",
      "print 4, factorial_rec(4)\n",
      "print 5, factorial_rec(5)"
     ],
     "language": "python",
     "metadata": {},
     "outputs": [
      {
       "output_type": "stream",
       "stream": "stdout",
       "text": [
        "3.1 None\n",
        "-1 None\n",
        "0 None\n",
        "2 2\n",
        "4 24\n",
        "5 120\n"
       ]
      }
     ],
     "prompt_number": 21
    },
    {
     "cell_type": "markdown",
     "metadata": {},
     "source": [
      "## Exercise 9"
     ]
    },
    {
     "cell_type": "code",
     "collapsed": false,
     "input": [
      "def fibonacci_rec(n):\n",
      "    if type(n) != int:\n",
      "        return None\n",
      "    elif n < 0:\n",
      "        return None\n",
      "    elif n == 0:\n",
      "        return 1\n",
      "    elif n == 1 :\n",
      "        return 1\n",
      "    else:\n",
      "        return fibonacci_rec(n-1) + fibonacci_rec(n-2)\n",
      "\n",
      "print fibonacci_rec(3.1)\n",
      "print fibonacci_rec(-1)\n",
      "\n",
      "for i in range(10):\n",
      "    print i, fibonacci_rec(i)\n"
     ],
     "language": "python",
     "metadata": {},
     "outputs": [
      {
       "output_type": "stream",
       "stream": "stdout",
       "text": [
        "None\n",
        "None\n",
        "0 1\n",
        "1 1\n",
        "2 2\n",
        "3 3\n",
        "4 5\n",
        "5 8\n",
        "6 13\n",
        "7 21\n",
        "8 34\n",
        "9 55\n"
       ]
      }
     ],
     "prompt_number": 26
    },
    {
     "cell_type": "markdown",
     "metadata": {},
     "source": [
      "## Exercise 10"
     ]
    },
    {
     "cell_type": "code",
     "collapsed": false,
     "input": [
      "def A(m,n):\n",
      "    if m ==0 :\n",
      "        return n+1\n",
      "    elif (m>0) and (n==0) :\n",
      "        return A(m-1,1)\n",
      "    elif (m>0) and (n>0) :\n",
      "        return A(m-1, A(m,n-1))\n",
      "    else:\n",
      "        return None\n",
      "\n",
      "for m in range(0,4):\n",
      "    for n in range(0,5):\n",
      "        print m, n, A(m,n)"
     ],
     "language": "python",
     "metadata": {},
     "outputs": [
      {
       "output_type": "stream",
       "stream": "stdout",
       "text": [
        "0 0 1\n",
        "0 1 2\n",
        "0 2 3\n",
        "0 3 4\n",
        "0 4 5\n",
        "1 0 2\n",
        "1 1 3\n",
        "1 2 4\n",
        "1 3 5\n",
        "1 4 6\n",
        "2 0 3\n",
        "2 1 5\n",
        "2 2 7\n",
        "2 3 9\n",
        "2 4 11\n",
        "3 0 5\n",
        "3 1 13\n",
        "3 2 29\n",
        "3 3 61\n",
        "3 4 125\n"
       ]
      }
     ],
     "prompt_number": 28
    },
    {
     "cell_type": "code",
     "collapsed": false,
     "input": [],
     "language": "python",
     "metadata": {},
     "outputs": []
    }
   ],
   "metadata": {}
  }
 ]
}